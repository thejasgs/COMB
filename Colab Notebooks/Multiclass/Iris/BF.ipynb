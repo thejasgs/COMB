{
 "cells": [
  {
   "cell_type": "markdown",
   "metadata": {
    "colab_type": "text",
    "id": "6tlOZLHCTreA"
   },
   "source": [
    "# Importing the Data"
   ]
  },
  {
   "cell_type": "markdown",
   "metadata": {
    "colab_type": "text",
    "id": "sH7d0Oa5uV2o"
   },
   "source": [
    "**Goal**: Classify attacks assuming a multiclass classification system has alerted an attack."
   ]
  },
  {
   "cell_type": "code",
   "execution_count": 1,
   "metadata": {
    "colab": {},
    "colab_type": "code",
    "id": "H3iMA4-iLjxI"
   },
   "outputs": [],
   "source": [
    "\n",
    "\n",
    "\n",
    "import numpy as np # linear algebra\n",
    "import pandas as pd # data processing, CSV file I/O (e.g. pd.read_csv)\n",
    "\n",
    "\n",
    "from sklearn.metrics import classification_report, accuracy_score"
   ]
  },
  {
   "cell_type": "code",
   "execution_count": 2,
   "metadata": {
    "colab": {
     "base_uri": "https://localhost:8080/",
     "height": 55
    },
    "colab_type": "code",
    "executionInfo": {
     "elapsed": 308,
     "status": "ok",
     "timestamp": 1562523394523,
     "user": {
      "displayName": "Daniel Jimenez",
      "photoUrl": "",
      "userId": "03897706589372651705"
     },
     "user_tz": 240
    },
    "id": "NuVI_cCqIYUJ",
    "outputId": "9659ad8f-d3e9-4090-c117-eccc84875961"
   },
   "outputs": [],
   "source": [
    "\n",
    "\n",
    "\n",
    "  #change dir to your project folder"
   ]
  },
  {
   "cell_type": "code",
   "execution_count": 3,
   "metadata": {
    "colab": {},
    "colab_type": "code",
    "id": "rSRSysY6Kuln"
   },
   "outputs": [],
   "source": [
    "#cleaned data without non-attack values\n",
    "X = pd.read_csv('~/datasets/Iris.csv', header=None, usecols=[i for i in range(4)])\n",
    "Y = pd.read_csv('~/datasets/Iris.csv', header=None, usecols=[4])"
   ]
  },
  {
   "cell_type": "markdown",
   "metadata": {
    "colab_type": "text",
    "id": "IeoRB2PrkT4j"
   },
   "source": [
    "# Feature Engineering"
   ]
  },
  {
   "cell_type": "code",
   "execution_count": 4,
   "metadata": {
    "colab": {
     "base_uri": "https://localhost:8080/",
     "height": 235
    },
    "colab_type": "code",
    "executionInfo": {
     "elapsed": 1071,
     "status": "ok",
     "timestamp": 1562523395321,
     "user": {
      "displayName": "Daniel Jimenez",
      "photoUrl": "",
      "userId": "03897706589372651705"
     },
     "user_tz": 240
    },
    "id": "3M052D-skWla",
    "outputId": "2af0ce45-8ddc-4bb3-b9ca-805a061cefe5"
   },
   "outputs": [
    {
     "name": "stderr",
     "output_type": "stream",
     "text": [
      "/Users/jimenez/anaconda3/lib/python3.7/site-packages/sklearn/cluster/birch.py:627: ConvergenceWarning: Number of subclusters found (1) by Birch is less than (3). Decrease the threshold.\n",
      "  % (len(centroids), self.n_clusters), ConvergenceWarning)\n",
      "/Users/jimenez/anaconda3/lib/python3.7/site-packages/sklearn/cluster/birch.py:627: ConvergenceWarning: Number of subclusters found (2) by Birch is less than (3). Decrease the threshold.\n",
      "  % (len(centroids), self.n_clusters), ConvergenceWarning)\n",
      "/Users/jimenez/anaconda3/lib/python3.7/site-packages/sklearn/ensemble/forest.py:245: FutureWarning: The default value of n_estimators will change from 10 in version 0.20 to 100 in 0.22.\n",
      "  \"10 in version 0.20 to 100 in 0.22.\", FutureWarning)\n",
      "/Users/jimenez/anaconda3/lib/python3.7/site-packages/ipykernel_launcher.py:64: DataConversionWarning: A column-vector y was passed when a 1d array was expected. Please change the shape of y to (n_samples,), for example using ravel().\n",
      "/Users/jimenez/anaconda3/lib/python3.7/site-packages/sklearn/ensemble/forest.py:245: FutureWarning: The default value of n_estimators will change from 10 in version 0.20 to 100 in 0.22.\n",
      "  \"10 in version 0.20 to 100 in 0.22.\", FutureWarning)\n",
      "/Users/jimenez/anaconda3/lib/python3.7/site-packages/ipykernel_launcher.py:64: DataConversionWarning: A column-vector y was passed when a 1d array was expected. Please change the shape of y to (n_samples,), for example using ravel().\n",
      "/Users/jimenez/anaconda3/lib/python3.7/site-packages/sklearn/ensemble/forest.py:245: FutureWarning: The default value of n_estimators will change from 10 in version 0.20 to 100 in 0.22.\n",
      "  \"10 in version 0.20 to 100 in 0.22.\", FutureWarning)\n",
      "/Users/jimenez/anaconda3/lib/python3.7/site-packages/ipykernel_launcher.py:64: DataConversionWarning: A column-vector y was passed when a 1d array was expected. Please change the shape of y to (n_samples,), for example using ravel().\n"
     ]
    }
   ],
   "source": [
    "# cluster and score\n",
    "from sklearn.cluster import Birch\n",
    "from sklearn.metrics.cluster import fowlkes_mallows_score as scorer\n",
    "score = []\n",
    "for i in range(len(X.columns)): # loop number of features\n",
    "  K = Birch(n_clusters=len(Y[Y.columns[0]].unique()))\n",
    "  pred = K.fit_predict(X.iloc[:, [i]].values)\n",
    "  s = scorer(Y[Y.columns[0]].values,pred)\n",
    "  score.append(s)\n",
    "  \n",
    "\n",
    "# Rank the features and sort\n",
    "\n",
    "s2 = score\n",
    "np.asarray(s2)\n",
    "\n",
    "s1 = []\n",
    "for i in range(len(X.columns)):\n",
    "  s1.append(i)\n",
    "  \n",
    "np.asarray(s1)\n",
    "\n",
    "li = list(zip(s1, s2))\n",
    "\n",
    "def sortSecond(val): \n",
    "    return val[1] \n",
    "  \n",
    "li.sort(key = sortSecond, reverse=True) \n",
    "\n",
    "\n",
    "\n",
    "    \n",
    "# Create a copy of X dataframe with columns sorted by score\n",
    "\n",
    "titles = []\n",
    "\n",
    "for i in range(len(X.columns)):\n",
    "  p = X.columns[li[i][0]]\n",
    "  titles.append(p)\n",
    "\n",
    "\n",
    "X1 = pd.DataFrame(columns=titles)\n",
    "\n",
    "for i in range(len(X.columns)):\n",
    "  X1[X1.columns[i]] = X[X.columns[li[i][0]]]\n",
    "  \n",
    "  \n",
    "\n",
    "# imports\n",
    "from sklearn.model_selection import train_test_split\n",
    "from sklearn.ensemble import RandomForestClassifier as rf\n",
    "from sklearn.metrics import accuracy_score\n",
    "\n",
    "# Recursive Feature Elemination from # of features to 0 and keep the accuracy score of each\n",
    "\n",
    "accuracy = []\n",
    "X2 = X1.copy()\n",
    "\n",
    "# for i in range(len(X1.columns)-1,-1,-1):\n",
    "for i in range(len(X1.columns)-1): \n",
    "  x_train, x_test, y_train, y_test = train_test_split(X1, Y, test_size=0.2, random_state=11)\n",
    "  X1.drop(X1.columns[len(X1.columns)-1], axis=1, inplace=True)\n",
    "  clf = rf(random_state=0, n_jobs=-1)\n",
    "  clf.fit(x_train, y_train)\n",
    "  y_pred = clf.predict(x_test)\n",
    "  accuracy.append(accuracy_score(y_test, y_pred)) \n",
    "  \n",
    "\n",
    "  \n",
    "# best score calcuation\n",
    "index = accuracy.index(max(accuracy))\n",
    "\n",
    "X = X2.iloc[:,0:len(X.columns)-index]"
   ]
  },
  {
   "cell_type": "markdown",
   "metadata": {
    "colab_type": "text",
    "id": "bf0nTitVLB6K"
   },
   "source": [
    "# Performance Analysis"
   ]
  },
  {
   "cell_type": "code",
   "execution_count": 5,
   "metadata": {
    "colab": {},
    "colab_type": "code",
    "id": "AFREm3JwVGvv"
   },
   "outputs": [],
   "source": [
    "from sklearn.model_selection import train_test_split\n",
    "x_train, x_test, y_train, y_test = train_test_split(X, Y, test_size=0.2, random_state=11)"
   ]
  },
  {
   "cell_type": "code",
   "execution_count": 6,
   "metadata": {
    "colab": {
     "base_uri": "https://localhost:8080/",
     "height": 235
    },
    "colab_type": "code",
    "executionInfo": {
     "elapsed": 1225,
     "status": "ok",
     "timestamp": 1562523395499,
     "user": {
      "displayName": "Daniel Jimenez",
      "photoUrl": "",
      "userId": "03897706589372651705"
     },
     "user_tz": 240
    },
    "id": "Tw_RpaU9K-mK",
    "outputId": "b607d59d-c77f-486f-8902-b387bf671deb"
   },
   "outputs": [
    {
     "name": "stderr",
     "output_type": "stream",
     "text": [
      "/Users/jimenez/anaconda3/lib/python3.7/site-packages/sklearn/ensemble/forest.py:245: FutureWarning: The default value of n_estimators will change from 10 in version 0.20 to 100 in 0.22.\n",
      "  \"10 in version 0.20 to 100 in 0.22.\", FutureWarning)\n",
      "/Users/jimenez/anaconda3/lib/python3.7/site-packages/ipykernel_launcher.py:3: DataConversionWarning: A column-vector y was passed when a 1d array was expected. Please change the shape of y to (n_samples,), for example using ravel().\n",
      "  This is separate from the ipykernel package so we can avoid doing imports until\n"
     ]
    },
    {
     "data": {
      "text/plain": [
       "RandomForestClassifier(bootstrap=True, class_weight=None, criterion='gini',\n",
       "                       max_depth=None, max_features='auto', max_leaf_nodes=None,\n",
       "                       min_impurity_decrease=0.0, min_impurity_split=None,\n",
       "                       min_samples_leaf=1, min_samples_split=2,\n",
       "                       min_weight_fraction_leaf=0.0, n_estimators=10, n_jobs=-1,\n",
       "                       oob_score=False, random_state=0, verbose=0,\n",
       "                       warm_start=False)"
      ]
     },
     "execution_count": 6,
     "metadata": {},
     "output_type": "execute_result"
    }
   ],
   "source": [
    "from sklearn.ensemble import RandomForestClassifier as rf\n",
    "clf = rf(random_state=0, n_jobs=-1)\n",
    "clf.fit(x_train, y_train)"
   ]
  },
  {
   "cell_type": "code",
   "execution_count": 7,
   "metadata": {
    "colab": {
     "base_uri": "https://localhost:8080/",
     "height": 107
    },
    "colab_type": "code",
    "executionInfo": {
     "elapsed": 1492,
     "status": "ok",
     "timestamp": 1562523395782,
     "user": {
      "displayName": "Daniel Jimenez",
      "photoUrl": "",
      "userId": "03897706589372651705"
     },
     "user_tz": 240
    },
    "id": "JHXdA6izQNeA",
    "outputId": "1bbb762e-397e-4032-e855-e27d72a3ce7e"
   },
   "outputs": [
    {
     "name": "stdout",
     "output_type": "stream",
     "text": [
      "(3, 0.48277755005284784)\n",
      "(2, 0.47361829316801873)\n",
      "(0, 0.03611610054457399)\n",
      "(1, 0.007488056234559509)\n",
      "features 4\n"
     ]
    }
   ],
   "source": [
    "\n",
    "x = list(zip(X.columns, clf.feature_importances_))\n",
    "\n",
    "def sortSecond(val): \n",
    "    return val[1] \n",
    "  \n",
    "x.sort(key = sortSecond, reverse=True) \n",
    "\n",
    "for i in range(len(X.columns)):\n",
    "    print(x[i])\n",
    "    if (i==len(X.columns)-1):\n",
    "      print(\"features\",i+1)"
   ]
  },
  {
   "cell_type": "code",
   "execution_count": 8,
   "metadata": {
    "colab": {
     "base_uri": "https://localhost:8080/",
     "height": 35
    },
    "colab_type": "code",
    "executionInfo": {
     "elapsed": 1477,
     "status": "ok",
     "timestamp": 1562523395784,
     "user": {
      "displayName": "Daniel Jimenez",
      "photoUrl": "",
      "userId": "03897706589372651705"
     },
     "user_tz": 240
    },
    "id": "P-2HcTcES3zb",
    "outputId": "3ce68873-b77d-45c8-f25b-b281153e2e91"
   },
   "outputs": [
    {
     "name": "stdout",
     "output_type": "stream",
     "text": [
      "0.9916666666666667 train\n"
     ]
    }
   ],
   "source": [
    "print(clf.score(x_train, y_train), \"train\")"
   ]
  },
  {
   "cell_type": "code",
   "execution_count": 9,
   "metadata": {
    "colab": {
     "base_uri": "https://localhost:8080/",
     "height": 233
    },
    "colab_type": "code",
    "executionInfo": {
     "elapsed": 1454,
     "status": "ok",
     "timestamp": 1562523395785,
     "user": {
      "displayName": "Daniel Jimenez",
      "photoUrl": "",
      "userId": "03897706589372651705"
     },
     "user_tz": 240
    },
    "id": "7C0mP-QHrKrU",
    "outputId": "a63e282d-5766-4b07-cb08-b90791f2e16c"
   },
   "outputs": [
    {
     "name": "stdout",
     "output_type": "stream",
     "text": [
      "Classification\n",
      "\n",
      "                 precision    recall  f1-score   support\n",
      "\n",
      "    Iris-setosa     1.0000    1.0000    1.0000         9\n",
      "Iris-versicolor     0.8333    1.0000    0.9091        10\n",
      " Iris-virginica     1.0000    0.8182    0.9000        11\n",
      "\n",
      "       accuracy                         0.9333        30\n",
      "      macro avg     0.9444    0.9394    0.9364        30\n",
      "   weighted avg     0.9444    0.9333    0.9330        30\n",
      "\n"
     ]
    }
   ],
   "source": [
    "y_pred = clf.predict(x_test)\n",
    "\n",
    "print(\"Classification\\n\")\n",
    "print(classification_report(y_test,y_pred, digits=4))"
   ]
  }
 ],
 "metadata": {
  "accelerator": "GPU",
  "colab": {
   "name": "Iris_ RF w/FS (Minibatch+Birch).ipynb",
   "provenance": [],
   "version": "0.3.2"
  },
  "kernelspec": {
   "display_name": "Python 3",
   "language": "python",
   "name": "python3"
  },
  "language_info": {
   "codemirror_mode": {
    "name": "ipython",
    "version": 3
   },
   "file_extension": ".py",
   "mimetype": "text/x-python",
   "name": "python",
   "nbconvert_exporter": "python",
   "pygments_lexer": "ipython3",
   "version": "3.7.3"
  }
 },
 "nbformat": 4,
 "nbformat_minor": 4
}
